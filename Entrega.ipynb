{
 "cells": [
  {
   "cell_type": "markdown",
   "metadata": {},
   "source": [
    "![](files/images/EscUpmPolit_p.gif \"UPM\")\n",
    "\n",
    "# Course Notes for Learning Intelligent Systems\n",
    "\n",
    "Department of Telematic Engineering Systems, Universidad Politécnica de Madrid, © 2016 Carlos A. Iglesias\n",
    "Student: Carlos Vega García\n"
   ]
  },
  {
   "cell_type": "markdown",
   "metadata": {},
   "source": [
    "# LOD-RFD\n",
    "\n",
    "## Descripciones de RFD\n",
    "\n",
    "Fichero reviews.ttl en turtle que muestra las triplas RDF para describir los recursos y propiedas relacionados con las opiniones del hotel.\n"
   ]
  },
  {
   "cell_type": "markdown",
   "metadata": {},
   "source": [
    "@prefix rdf: <http://www.w3.org/1999/02/22-rdf-syntax-ns#> .\n",
    "@prefix rdfs: <http://www.w3.org/2000/01/rdf-schema#> .\n",
    "@prefix schema: <http://schema.org/> .\n",
    "@prefix dbr: <http://dbpedia.org/resource/>.\n",
    "@prefix foaf: <http://xmlns.com/foaf/0.1/>.\n",
    "\n",
    "\n",
    "_:Hotel1 a schema:Hotel ;\n",
    "         schema:name \"Atana\" ;\n",
    "         schema:description \"Este nuevo hotel de 4 estrellas se encuentra en Dubái, a 5 minutos en coche del centro comercial Mall of Emirates.\" ;\n",
    "         schema:address [\n",
    "           schema:addressCountry dbr:United_Arab_Emirates ;\n",
    "           schema:addressLocality \"Barsha Heights\" ;\n",
    "           schema:addressRegion dbr:Dubai ;\n",
    "           schema:postOfficeBoxNumber \"505555\" ;\n",
    "           schema:postalCode \"505555\" ;\n",
    "           schema:streetAddress \"Hessa Street 1\"\n",
    "\n",
    "         ] ;\n",
    "         schema:telephone \"+971 4 356 6666\" ;\n",
    "         schema:email \"reservations@atanahotel.com\" ;\n",
    "         schema:sameAs [\n",
    "           schema:URL  \"http://example/sitc/dubai/atana\"\n",
    "         ] ; \n",
    "         schema:petsAllowed false .\n",
    "\n",
    "\n",
    "_:Review1 a schema:Review ;\n",
    "          schema:reviewBody \"I love this hotel\" ;\n",
    "          schema:datePublished \"2007-11-03T16:18:05Z\" ;\n",
    "          schema:reviewRating [\n",
    "           schema:author [ a foaf:Person ;\n",
    "           schema:name \"anonymous\" ;\n",
    "           schema:mbox <mailto:anonymous@anonymous.com> ] ;\n",
    "           schema:ratingValue \"1\"\n",
    "          ] ;\n",
    "          schema:itemReviewed _:Hotel1 .\n",
    "\n",
    "_:Review2 a schema:Review ;\n",
    "          schema:reviewBody \"I did not like this hotel\" ;\n",
    "          schema:datePublished \"2017-11-03T16:18:05Z\" ;\n",
    "          schema:reviewRating [\n",
    "           schema:author [ a schema:Person ;\n",
    "           schema:givenName \"anonymous\" ] ;\n",
    "\n",
    "           schema:ratingValue \"0.3\"\n",
    "          ] ;\n",
    "          schema:itemReviewed _:Hotel1 .\n"
   ]
  },
  {
   "cell_type": "markdown",
   "metadata": {},
   "source": [
    "## Extracción de notaciones\n"
   ]
  },
  {
   "cell_type": "markdown",
   "metadata": {},
   "source": [
    "He extraído los datos de las tres páginas"
   ]
  },
  {
   "cell_type": "markdown",
   "metadata": {},
   "source": [
    "¿Qué tipo de datos incluyen?"
   ]
  },
  {
   "cell_type": "markdown",
   "metadata": {},
   "source": [
    "Como nosotros incluye la dirección y las valoraciones, descripción, imagen, nombre, url... Los parámetros que podemos veren la página con la que se define unhotel en schema (http://schema.org/Hotel)"
   ]
  },
  {
   "cell_type": "markdown",
   "metadata": {},
   "source": [
    "Algunas páginas dan problemas a la hora de extaer la información"
   ]
  }
 ],
 "metadata": {
  "kernelspec": {
   "display_name": "Python 3",
   "language": "python",
   "name": "python3"
  },
  "language_info": {
   "codemirror_mode": {
    "name": "ipython",
    "version": 3
   },
   "file_extension": ".py",
   "mimetype": "text/x-python",
   "name": "python",
   "nbconvert_exporter": "python",
   "pygments_lexer": "ipython3",
   "version": "3.6.0"
  }
 },
 "nbformat": 4,
 "nbformat_minor": 0
}
